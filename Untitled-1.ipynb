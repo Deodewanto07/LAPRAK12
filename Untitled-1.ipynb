{
 "cells": [
  {
   "cell_type": "code",
   "execution_count": 5,
   "metadata": {},
   "outputs": [
    {
     "name": "stdout",
     "output_type": "stream",
     "text": [
      "True\n",
      "False\n"
     ]
    }
   ],
   "source": [
    "#Latihan 1\n",
    "def cek(t):\n",
    "    return len(set(t)) == 1\n",
    "    \n",
    "tA = (90,90,90,90)\n",
    "print(cek(tA))\n",
    "\n",
    "tb = (90,90,60,90)\n",
    "print(cek(tb))"
   ]
  },
  {
   "cell_type": "code",
   "execution_count": 1,
   "metadata": {},
   "outputs": [
    {
     "name": "stdout",
     "output_type": "stream",
     "text": [
      "Data: ('Deo Dewanto', '71230981', 'Toraja, Sulawesi Selatan')\n",
      "\n",
      "\n",
      "NIM      : 7 1 2 3 0 9 8 1\n",
      "NAMA     : D e o   D e w a n t o\n",
      "ALAMAT   : Toraja, Sulawesi Selatan\n",
      "\n",
      "\n",
      "NIM: ('7', '1', '2', '3', '0', '9', '8', '1')\n",
      "NAMA DEPAN: ('D', 'e', 'o')\n",
      "NAMA TERBALIK: ('Dewanto', 'Deo')\n"
     ]
    }
   ],
   "source": [
    "#Latihan 2\n",
    "def data(nama_lengkap, nim, alamat):\n",
    "    gabung = nama_lengkap, nim, alamat\n",
    "    print(\"Data:\", tuple(gabung))\n",
    "    print(\"\\n\")\n",
    "    print(\"NIM      :\", ' '.join(nim))\n",
    "    print(\"NAMA     :\", ' '.join(nama_lengkap))\n",
    "    print(\"ALAMAT   :\", alamat)\n",
    "    print('\\n')\n",
    "    print(\"NIM:\", tuple(nim))\n",
    "    print(\"NAMA DEPAN:\", tuple(nama_lengkap.split()[0]))\n",
    "    print(\"NAMA TERBALIK:\", tuple(nama_lengkap.split()[::-1]))\n",
    "\n",
    "nama_lengkap = 'Deo Dewanto'\n",
    "nim = '71230981'\n",
    "alamat = 'Toraja, Sulawesi Selatan'\n",
    "\n",
    "data(nama_lengkap, nim, alamat)"
   ]
  },
  {
   "cell_type": "code",
   "execution_count": 3,
   "metadata": {},
   "outputs": [
    {
     "name": "stdout",
     "output_type": "stream",
     "text": [
      "Distribusi Jam:\n",
      "04 3\n",
      "06 1\n",
      "07 1\n",
      "09 2\n",
      "10 3\n",
      "11 6\n",
      "14 1\n",
      "15 2\n",
      "16 4\n",
      "17 2\n",
      "18 1\n",
      "19 1\n"
     ]
    }
   ],
   "source": [
    "#Latihan 3\n",
    "def hitung_distribusi_jam(namafile):\n",
    "    distribusi_jam = {}\n",
    "    try:\n",
    "        with open(namafile, 'r') as file:\n",
    "            for line in file:\n",
    "                if line.startswith('From '):\n",
    "                    kata = line.split()\n",
    "                    waktu = kata[5].split(':')\n",
    "                    jam = waktu[0]\n",
    "                    distribusi_jam[jam] = distribusi_jam.get(jam, 0) + 1\n",
    "    except FileNotFoundError:\n",
    "        print(\"File tidak ditemukan\")\n",
    "        return\n",
    "\n",
    "    print(\"Distribusi Jam:\")\n",
    "    for jam in sorted(distribusi_jam):\n",
    "        print(jam, distribusi_jam[jam])\n",
    "\n",
    "namafile = 'mbox-short.txt'\n",
    "\n",
    "hitung_distribusi_jam(namafile)"
   ]
  }
 ],
 "metadata": {
  "kernelspec": {
   "display_name": "Python 3",
   "language": "python",
   "name": "python3"
  },
  "language_info": {
   "codemirror_mode": {
    "name": "ipython",
    "version": 3
   },
   "file_extension": ".py",
   "mimetype": "text/x-python",
   "name": "python",
   "nbconvert_exporter": "python",
   "pygments_lexer": "ipython3",
   "version": "3.12.2"
  },
  "orig_nbformat": 4
 },
 "nbformat": 4,
 "nbformat_minor": 2
}
